{
 "cells": [
  {
   "cell_type": "markdown",
   "metadata": {},
   "source": [
    "# Simple Linear Regression"
   ]
  },
  {
   "cell_type": "code",
   "execution_count": 15,
   "metadata": {},
   "outputs": [
    {
     "name": "stdout",
     "output_type": "stream",
     "text": [
      "Enter value of x_ 0 =\n",
      "1\n",
      "Enter value of y_ 0 =\n",
      "1\n",
      "Enter value of x_ 1 =\n",
      "2\n",
      "Enter value of y_ 1 =\n",
      "3\n",
      "Enter value of x_ 2 =\n",
      "3\n",
      "Enter value of y_ 2 =\n",
      "3\n",
      "Enter value of x_ 3 =\n",
      "4\n",
      "Enter value of y_ 3 =\n",
      "5\n",
      "Enter value of x_ 4 =\n",
      "5\n",
      "Enter value of y_ 4 =\n",
      "5\n",
      "Enter value of x_ 5 =\n",
      "6\n",
      "Enter value of y_ 5 =\n",
      "7\n",
      "Enter value of x_ 6 =\n",
      "7\n",
      "Enter value of y_ 6 =\n",
      "6\n",
      "Enter value of x_ 7 =\n",
      "8\n",
      "Enter value of y_ 7 =\n",
      "8\n",
      "Enter value of x_ 8 =\n",
      "9\n",
      "Enter value of y_ 8 =\n",
      "8\n",
      "Enter value of x_ 9 =\n",
      "10\n",
      "Enter value of y_ 9 =\n",
      "10\n",
      "value of b_0 and b_1 is =  -0.0229166666667 1.02234848485\n"
     ]
    },
    {
     "data": {
      "image/png": "[encoded data removed]",
      "text/plain": [
       "<matplotlib.figure.Figure at 0x1d950576a90>"
      ]
     },
     "metadata": {},
     "output_type": "display_data"
    }
   ],
   "source": [
    "import numpy as np\n",
    "import matplotlib.pyplot as plt\n",
    "% matplotlib inline\n",
    "def estimate_coeff(x,y):\n",
    "    l=np.size(x)\n",
    "    m_x=(np.sum(x)/l)\n",
    "    m_y=(np.sum(y)/l)\n",
    "    # calculating cross deviation and deviation around x\n",
    "    SS_xy=np.sum(y*x-l*m_y*m_x)\n",
    "    SS_xx=np.sum(x*x- l*m_x*m_x)\n",
    "    b_1=SS_xy/SS_xx\n",
    "    b_0=m_y-(b_1*m_x)\n",
    "    return(b_0,b_1)\n",
    "\n",
    "x,y=[],[]\n",
    "i=0\n",
    "while (i<10):\n",
    "    print(\"Enter value of x_\",i,\"=\")\n",
    "    n=input()\n",
    "    print(\"Enter value of y_\",i,\"=\")\n",
    "    m=input()\n",
    "    x.append(n)\n",
    "    y.append(m)\n",
    "    i=i+1\n",
    "    \n",
    "p=np.array(x).astype(np.int)\n",
    "q=np.array(y).astype(np.int)\n",
    "b = estimate_coeff(p,q)\n",
    "print(\"value of b_0 and b_1 is = \",b[0],b[1])\n",
    "plt.scatter(x,y,color=\"m\",marker=\"x\",s=30)\n",
    "# predicted response vector\n",
    "y_pred=b[0]+b[1]*p\n",
    "y_pred.astype(np.float)\n",
    "plt.plot(x,y_pred,color=\"red\")\n",
    "plt.xlabel('x')\n",
    "plt.ylabel('y')\n",
    "plt.show()\n"
   ]
  },
  {
   "cell_type": "code",
   "execution_count": null,
   "metadata": {
    "collapsed": true
   },
   "outputs": [],
   "source": []
  }
 ],
 "metadata": {
  "kernelspec": {
   "display_name": "Python 3",
   "language": "python",
   "name": "python3"
  },
  "language_info": {
   "codemirror_mode": {
    "name": "ipython",
    "version": 3
   },
   "file_extension": ".py",
   "mimetype": "text/x-python",
   "name": "python",
   "nbconvert_exporter": "python",
   "pygments_lexer": "ipython3",
   "version": "3.6.1"
  }
 },
 "nbformat": 4,
 "nbformat_minor": 2
}
